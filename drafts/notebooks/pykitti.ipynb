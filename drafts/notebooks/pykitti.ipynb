{
 "metadata": {
  "language_info": {
   "codemirror_mode": {
    "name": "ipython",
    "version": 3
   },
   "file_extension": ".py",
   "mimetype": "text/x-python",
   "name": "python",
   "nbconvert_exporter": "python",
   "pygments_lexer": "ipython3",
   "version": "3.8.5-final"
  },
  "orig_nbformat": 2
 },
 "nbformat": 4,
 "nbformat_minor": 2,
 "cells": [
  {
   "cell_type": "code",
   "execution_count": 1,
   "metadata": {},
   "outputs": [],
   "source": [
    "import pykitti\n",
    "import numpy as np\n",
    "\n",
    "basedir = '/home/dayoff/Documents/unb/tg2/data'\n",
    "date = '2011_09_26'\n",
    "drive = '0001'\n",
    "\n",
    "# The 'frames' argument is optional - default: None, which loads the whole dataset.\n",
    "# Calibration, timestamps, and IMU data are read automatically. \n",
    "# Camera and velodyne data are available via properties that create generators\n",
    "# when accessed, or through getter methods that provide random access.\n",
    "data = pykitti.raw(basedir, date, drive, frames=range(0, 50, 5))\n",
    "\n",
    "# dataset.calib:         Calibration data are accessible as a named tuple\n",
    "# dataset.timestamps:    Timestamps are parsed into a list of datetime objects\n",
    "# dataset.oxts:          List of OXTS packets and 6-dof poses as named tuples\n",
    "# dataset.camN:          Returns a generator that loads individual images from camera N\n",
    "# dataset.get_camN(idx): Returns the image from camera N at idx  \n",
    "# dataset.gray:          Returns a generator that loads monochrome stereo pairs (cam0, cam1)\n",
    "# dataset.get_gray(idx): Returns the monochrome stereo pair at idx  \n",
    "# dataset.rgb:           Returns a generator that loads RGB stereo pairs (cam2, cam3)\n",
    "# dataset.get_rgb(idx):  Returns the RGB stereo pair at idx  \n",
    "# dataset.velo:          Returns a generator that loads velodyne scans as [x,y,z,reflectance]\n",
    "# dataset.get_velo(idx): Returns the velodyne scan at idx  \n",
    "\n",
    "point_velo = np.array([0,0,0,1])\n",
    "point_cam0 = data.calib.T_cam0_velo.dot(point_velo)\n",
    "\n",
    "point_imu = np.array([0,0,0,1])\n",
    "point_w = [o.T_w_imu.dot(point_imu) for o in data.oxts]\n",
    "\n",
    "for cam0_image in data.cam0:\n",
    "    # do something\n",
    "    pass\n",
    "\n",
    "cam2_image, cam3_image = data.get_rgb(3)"
   ]
  },
  {
   "cell_type": "code",
   "execution_count": 2,
   "metadata": {},
   "outputs": [
    {
     "output_type": "execute_result",
     "data": {
      "text/plain": [
       "range(0, 50, 5)"
      ]
     },
     "metadata": {},
     "execution_count": 2
    }
   ],
   "source": [
    "data.frames"
   ]
  },
  {
   "cell_type": "code",
   "execution_count": null,
   "metadata": {},
   "outputs": [],
   "source": []
  }
 ]
}
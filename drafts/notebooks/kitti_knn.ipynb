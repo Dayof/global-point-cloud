{
 "metadata": {
  "language_info": {
   "codemirror_mode": {
    "name": "ipython",
    "version": 3
   },
   "file_extension": ".py",
   "mimetype": "text/x-python",
   "name": "python",
   "nbconvert_exporter": "python",
   "pygments_lexer": "ipython3",
   "version": "3.8.5-final"
  },
  "orig_nbformat": 2,
  "kernelspec": {
   "name": "python38264bitvenvvenvb854ac44ac8248b2b21346efe14f232f",
   "display_name": "Python 3.8.2 64-bit ('venv': venv)"
  }
 },
 "nbformat": 4,
 "nbformat_minor": 2,
 "cells": [
  {
   "cell_type": "code",
   "execution_count": 1,
   "metadata": {},
   "outputs": [],
   "source": [
    "import open3d as o3d \n",
    "import numpy as np\n",
    "from pathlib import Path\n",
    "from scipy.spatial import distance"
   ]
  },
  {
   "cell_type": "code",
   "execution_count": 11,
   "metadata": {
    "tags": []
   },
   "outputs": [
    {
     "output_type": "stream",
     "name": "stdout",
     "text": [
      "/home/dayoff/codes/point_cloud_lib/data\n"
     ]
    }
   ],
   "source": [
    "# get data base path to collect the point clouds\n",
    "BASE = Path().resolve().parents[1]\n",
    "DATA_PATH = BASE / 'data'\n",
    "print(DATA_PATH)\n",
    "SHOW_PC = True"
   ]
  },
  {
   "cell_type": "code",
   "execution_count": 3,
   "metadata": {
    "tags": []
   },
   "outputs": [
    {
     "output_type": "stream",
     "name": "stdout",
     "text": [
      "PCD:\n geometry::PointCloud with 120574 points. \n PCD size:  120574 \n \nPCD colors: \n [[  0.   0. 255.]\n [  0.   0. 255.]\n [  0.   0. 255.]\n ...\n [  0.   0. 255.]\n [  0.   0. 255.]\n [  0.   0. 255.]] \n \nPCD points:\n [[74.536  9.937  2.752]\n [74.558 10.178  2.754]\n [74.569 10.419  2.755]\n ...\n [ 3.705 -1.394 -1.73 ]\n [ 3.611 -1.345 -1.681]\n [ 3.73  -1.377 -1.738]]\n"
     ]
    }
   ],
   "source": [
    "# get first point cloud, assign it with a blue color\n",
    "pc_path = DATA_PATH / 'kitti' / '0000000000.ply'\n",
    "pcd = o3d.io.read_point_cloud(str(pc_path), format='ply')\n",
    "pcd_size = len(np.asarray(pcd.points))\n",
    "\n",
    "# define point cloud color\n",
    "blue_color = [0, 0, 255]\n",
    "np_colors = np.array([blue_color for _ in range(pcd_size)])\n",
    "pcd.colors = o3d.utility.Vector3dVector(np_colors)\n",
    "\n",
    "# show point cloud info\n",
    "print('PCD:\\n', pcd, '\\n', 'PCD size: ', pcd_size, '\\n', '\\nPCD colors: \\n', np.asarray(pcd.colors), '\\n', '\\nPCD points:\\n', np.asarray(pcd.points))"
   ]
  },
  {
   "cell_type": "code",
   "execution_count": 127,
   "metadata": {},
   "outputs": [],
   "source": [
    "if SHOW_PC:\n",
    "    o3d.visualization.draw_geometries([pcd])"
   ]
  },
  {
   "cell_type": "code",
   "execution_count": 4,
   "metadata": {
    "tags": []
   },
   "outputs": [
    {
     "output_type": "stream",
     "name": "stdout",
     "text": [
      "PCD 2:\n geometry::PointCloud with 120831 points. \n PCD 2 size:  120831 \n \nPCD 2 colors: \n [[255.   0.   0.]\n [255.   0.   0.]\n [255.   0.   0.]\n ...\n [255.   0.   0.]\n [255.   0.   0.]\n [255.   0.   0.]] \n \nPCD 2 points:\n [[79.222  9.426  2.907]\n [73.181  9.99   2.707]\n [73.124 10.216  2.706]\n ...\n [ 3.692 -1.396 -1.725]\n [ 3.71  -1.39  -1.731]\n [ 3.721 -1.381 -1.735]]\n"
     ]
    }
   ],
   "source": [
    "# get second point cloud, assign it with a red color\n",
    "pc_path = DATA_PATH / 'kitti' / '0000000001.ply'\n",
    "pcd_2 = o3d.io.read_point_cloud(str(pc_path), format='ply')\n",
    "pcd_2_size = len(np.asarray(pcd_2.points))\n",
    "\n",
    "# define point cloud color\n",
    "red_color = [255, 0, 0]\n",
    "np_colors_2 = np.array([red_color for _ in range(pcd_2_size)])\n",
    "pcd_2.colors = o3d.utility.Vector3dVector(np_colors_2)\n",
    "\n",
    "# show point cloud info\n",
    "print('PCD 2:\\n', pcd_2, '\\n', 'PCD 2 size: ', pcd_2_size, '\\n', '\\nPCD 2 colors: \\n', np.asarray(pcd_2.colors), '\\n', '\\nPCD 2 points:\\n', np.asarray(pcd_2.points))"
   ]
  },
  {
   "cell_type": "code",
   "execution_count": 133,
   "metadata": {},
   "outputs": [],
   "source": [
    "if SHOW_PC:\n",
    "    o3d.visualization.draw_geometries([pcd_2])"
   ]
  },
  {
   "cell_type": "code",
   "execution_count": 7,
   "metadata": {},
   "outputs": [
    {
     "output_type": "stream",
     "name": "stdout",
     "text": [
      "PCD 3:\n geometry::PointCloud with 121015 points. \n PCD 3 size:  121015 \n \nPCD 3 colors: \n [[  0. 255.   0.]\n [  0. 255.   0.]\n [  0. 255.   0.]\n ...\n [  0. 255.   0.]\n [  0. 255.   0.]\n [  0. 255.   0.]] \n \nPCD 3 points:\n [[78.372  8.078  2.873]\n [77.816  9.63   2.861]\n [71.744 10.138  2.659]\n ...\n [ 3.712 -1.397 -1.733]\n [ 3.723 -1.388 -1.737]\n [ 3.737 -1.38  -1.742]]\n"
     ]
    }
   ],
   "source": [
    "# get third point cloud, assign it with a green color\n",
    "pc_path = DATA_PATH / 'kitti' / '0000000002.ply'\n",
    "pcd_3 = o3d.io.read_point_cloud(str(pc_path), format='ply')\n",
    "pcd_3_size = len(np.asarray(pcd_3.points))\n",
    "\n",
    "# define point cloud color\n",
    "green_color = [0, 255, 0]\n",
    "np_colors_3 = np.array([green_color for _ in range(pcd_3_size)])\n",
    "pcd_3.colors = o3d.utility.Vector3dVector(np_colors_3)\n",
    "\n",
    "# show point cloud info\n",
    "print('PCD 3:\\n', pcd_3, '\\n', 'PCD 3 size: ', pcd_3_size, '\\n', '\\nPCD 3 colors: \\n', np.asarray(pcd_3.colors), '\\n', '\\nPCD 3 points:\\n', np.asarray(pcd_3.points))"
   ]
  },
  {
   "cell_type": "code",
   "execution_count": 8,
   "metadata": {},
   "outputs": [],
   "source": [
    "# offset the second point cloud to visualize it more clearly\n",
    "offset_pcd_2 = o3d.geometry.PointCloud(pcd_2)\n",
    "offset_pcd_2.points = o3d.utility.Vector3dVector(np.asarray(offset_pcd_2.points) + [0.0, 0.0, -10.0])\n",
    "# assign same color to the offset point cloud\n",
    "offset_pcd_2.colors = o3d.utility.Vector3dVector(np_colors_2)  "
   ]
  },
  {
   "cell_type": "code",
   "execution_count": 9,
   "metadata": {},
   "outputs": [],
   "source": [
    "# offset the third point cloud to visualize it more clearly\n",
    "offset_pcd_3 = o3d.geometry.PointCloud(pcd_3)\n",
    "offset_pcd_3.points = o3d.utility.Vector3dVector(np.asarray(offset_pcd_3.points) + [0.0, 0.0, -20.0])\n",
    "# assign same color to the offset point cloud\n",
    "offset_pcd_3.colors = o3d.utility.Vector3dVector(np_colors_3)  "
   ]
  },
  {
   "cell_type": "code",
   "execution_count": 12,
   "metadata": {},
   "outputs": [],
   "source": [
    "if SHOW_PC:\n",
    "    o3d.visualization.draw_geometries([pcd, offset_pcd_2, offset_pcd_3])"
   ]
  },
  {
   "cell_type": "code",
   "execution_count": 20,
   "metadata": {},
   "outputs": [
    {
     "output_type": "execute_result",
     "data": {
      "text/plain": [
       "(362420, 3)"
      ]
     },
     "metadata": {},
     "execution_count": 20
    }
   ],
   "source": [
    "# merge all 3 point clouds\n",
    "merged_pc = o3d.geometry.PointCloud()\n",
    "merged_np_arr = np.concatenate([np.asarray(pcd.points), np.asarray(pcd_2.points), np.asarray(pcd_3.points)])"
   ]
  },
  {
   "cell_type": "code",
   "execution_count": 21,
   "metadata": {},
   "outputs": [
    {
     "output_type": "execute_result",
     "data": {
      "text/plain": [
       "True"
      ]
     },
     "metadata": {},
     "execution_count": 21
    }
   ],
   "source": [
    "merged_np_arr.shape[0] == np.asarray(pcd.points).shape[0] + np.asarray(pcd_2.points).shape[0] + np.asarray(pcd_3.points).shape[0]"
   ]
  },
  {
   "cell_type": "code",
   "execution_count": 29,
   "metadata": {},
   "outputs": [
    {
     "output_type": "stream",
     "name": "stdout",
     "text": [
      "PC merged:\n geometry::PointCloud with 362420 points. \nPC merged size:  362420 \n\nPC merged colors: \n [[  0. 255. 255.]\n [  0. 255. 255.]\n [  0. 255. 255.]\n ...\n [  0. 255. 255.]\n [  0. 255. 255.]\n [  0. 255. 255.]] \n\nPC merged points:\n [[74.536  9.937  2.752]\n [74.558 10.178  2.754]\n [74.569 10.419  2.755]\n ...\n [ 3.712 -1.397 -1.733]\n [ 3.723 -1.388 -1.737]\n [ 3.737 -1.38  -1.742]]\n"
     ]
    }
   ],
   "source": [
    "merged_pc.points = o3d.utility.Vector3dVector(merged_np_arr)\n",
    "merged_pc_size = len(np.asarray(merged_pc.points))\n",
    "\n",
    "# define point cloud color\n",
    "soft_blue_color = [0, 255, 255]\n",
    "np_colors_merge = np.array([soft_blue_color for _ in range(merged_pc_size)])\n",
    "merged_pc.colors = o3d.utility.Vector3dVector(np_colors_merge)\n",
    "\n",
    "# show point cloud info\n",
    "idx = 'merged'\n",
    "print(f'PC {idx}:\\n', merged_pc, f'\\nPC {idx} size: ', merged_pc_size, f'\\n\\nPC {idx} colors: \\n', np.asarray(merged_pc.colors), f'\\n\\nPC {idx} points:\\n', np.asarray(merged_pc.points))"
   ]
  },
  {
   "cell_type": "code",
   "execution_count": 32,
   "metadata": {},
   "outputs": [],
   "source": [
    "if SHOW_PC:\n",
    "    o3d.visualization.draw_geometries([merged_pc])"
   ]
  },
  {
   "cell_type": "code",
   "execution_count": 139,
   "metadata": {
    "tags": []
   },
   "outputs": [
    {
     "output_type": "stream",
     "name": "stdout",
     "text": [
      "Intersection between PC 1 and PC 2: (173, 3) \nPC 1 size:\n (120574, 3) \nPC 2 size:\n (121604, 3)\n"
     ]
    }
   ],
   "source": [
    "# for each point get the distance to all \n",
    "pcd_arr, pcd_2_arr = np.asarray(new_pcd.points), np.asarray(new_pcd_2.points)\n",
    "# get unique points from both point clouds\n",
    "pcd_set, pcd_2_set = set(map(tuple, pcd_arr)), set(map(tuple, pcd_2_arr))\n",
    "# op & returns the intersection of the point clouds\n",
    "intersec_arr = list(pcd_set & pcd_2_set)\n",
    "intersec_np = np.array(intersec_arr)  # transform to a numpy array\n",
    "print('Intersection between PC 1 and PC 2:', intersec_np.shape, '\\nPC 1 size:\\n', pcd_arr.shape, '\\nPC 2 size:\\n', pcd_2_arr.shape)"
   ]
  },
  {
   "cell_type": "code",
   "execution_count": null,
   "metadata": {},
   "outputs": [],
   "source": []
  },
  {
   "cell_type": "code",
   "execution_count": 140,
   "metadata": {
    "tags": []
   },
   "outputs": [],
   "source": [
    "# transform the intersection points found into a point cloud format\n",
    "intersec_pc = o3d.geometry.PointCloud()\n",
    "intersec_pc.points = o3d.utility.Vector3dVector(intersec_np)\n",
    "intersec_pc_size = len(np.asarray(intersec_pc.points))\n",
    "\n",
    "# define point cloud color\n",
    "green_color = [0, 255, 0]\n",
    "np_colors_3 = np.array([red_color for _ in range(intersec_pc_size)])\n",
    "\n",
    "# offset this new point cloud to visualize clearly comparing to pc 1 and pc 2\n",
    "intersec_pc_offset = o3d.geometry.PointCloud()\n",
    "intersec_pc_offset.points = o3d.utility.Vector3dVector(np.asarray(intersec_pc.points) + [0.0, 0.0, -20.0])\n",
    "intersec_pc_offset.colors = o3d.utility.Vector3dVector(np_colors_3)"
   ]
  },
  {
   "cell_type": "code",
   "execution_count": 141,
   "metadata": {},
   "outputs": [],
   "source": [
    "if SHOW_PC:\n",
    "    # show both point clouds and the intersection between them:\n",
    "    # the first map is the first point cloud\n",
    "    # the second map is the second point cloud\n",
    "    # the third map is intersection between both point clouds\n",
    "    o3d.visualization.draw_geometries([pcd, offset_pcd_2, intersec_pc_offset])"
   ]
  }
 ]
}
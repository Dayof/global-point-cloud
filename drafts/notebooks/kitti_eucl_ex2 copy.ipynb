{
 "metadata": {
  "language_info": {
   "codemirror_mode": {
    "name": "ipython",
    "version": 3
   },
   "file_extension": ".py",
   "mimetype": "text/x-python",
   "name": "python",
   "nbconvert_exporter": "python",
   "pygments_lexer": "ipython3",
   "version": "3.8.5-final"
  },
  "orig_nbformat": 2,
  "kernelspec": {
   "name": "python38264bitvenvvenvb854ac44ac8248b2b21346efe14f232f",
   "display_name": "Python 3.8.2 64-bit ('venv': venv)"
  }
 },
 "nbformat": 4,
 "nbformat_minor": 2,
 "cells": [
  {
   "cell_type": "code",
   "execution_count": 1,
   "metadata": {},
   "outputs": [],
   "source": [
    "import open3d as o3d \n",
    "import numpy as np\n",
    "from pathlib import Path\n",
    "import scipy\n",
    "import scipy.spatial as spt\n",
    "import pcl\n",
    "import math\n",
    "from tqdm import tqdm\n",
    "import itertools\n",
    "import threading\n",
    "import concurrent.futures\n",
    "import functools"
   ]
  },
  {
   "cell_type": "code",
   "execution_count": 2,
   "metadata": {
    "tags": []
   },
   "outputs": [
    {
     "output_type": "stream",
     "name": "stdout",
     "text": [
      "/home/dayoff/codes/point_cloud_lib/data\n"
     ]
    }
   ],
   "source": [
    "# get data base path to collect the point clouds\n",
    "BASE = Path().resolve().parents[1]\n",
    "DATA_PATH = BASE / 'data'\n",
    "print(DATA_PATH)\n",
    "SHOW_PC = True\n",
    "CHUNKS = 5000\n",
    "THRESHOLD = 0.5  # 5 cm\n",
    "COLORS = {'green': [0, 255, 0], 'red': [255, 0, 0], 'blue': [0, 0, 255],\n",
    "          'black': [0, 0, 0], 'yellow': [255, 255, 0]}"
   ]
  },
  {
   "cell_type": "code",
   "execution_count": 3,
   "metadata": {},
   "outputs": [],
   "source": [
    "def calc_eucl_dist(p1, p2):\n",
    "    return math.sqrt((p2[0] - p1[0])**2 + (p2[1] - p1[1])**2 + (p2[2] - p1[2])**2)"
   ]
  },
  {
   "cell_type": "code",
   "execution_count": 4,
   "metadata": {},
   "outputs": [],
   "source": [
    "def check_threshold(p1, p2):\n",
    "    if ((p1[0] + THRESHOLD > p2[0]) and (p2[0] > p1[0] - THRESHOLD)) and \\\n",
    "        ((p1[1] + THRESHOLD > p2[1]) and (p2[1] > p1[1] - THRESHOLD)) and \\\n",
    "        ((p1[2] + THRESHOLD > p2[2]) and (p2[2] > p1[2] - THRESHOLD)):\n",
    "        return calc_eucl_dist(p1, p2) <= THRESHOLD"
   ]
  },
  {
   "cell_type": "code",
   "execution_count": 5,
   "metadata": {},
   "outputs": [],
   "source": [
    "def load_point_cloud(idx, color='blue'):\n",
    "    # get first point cloud, assign it with a blue color\n",
    "    filename = f'{idx}'.zfill(10) + '.ply'\n",
    "    pc_path = DATA_PATH / 'kitti' / filename\n",
    "    print('Collecting pc: ', pc_path)\n",
    "    pcd = o3d.io.read_point_cloud(str(pc_path), format='ply')\n",
    "    pcd_size = len(np.asarray(pcd.points))\n",
    "\n",
    "    # define point cloud color\n",
    "    np_colors = np.array([COLORS[color] for _ in range(pcd_size)])\n",
    "    pcd.colors = o3d.utility.Vector3dVector(np_colors)\n",
    "\n",
    "    pc_tot_size = len(point_clouds)\n",
    "    # show point cloud info\n",
    "    print(f'PCD {pc_tot_size}:\\n', pcd, f'\\nPCD {pc_tot_size} size: ', pcd_size,\n",
    "          f'\\n\\nPCD {pc_tot_size} colors: \\n', np.asarray(pcd.colors),\n",
    "          f'\\n\\nPCD {pc_tot_size} points:\\n', np.asarray(pcd.points))\n",
    "    return pcd"
   ]
  },
  {
   "cell_type": "code",
   "execution_count": 6,
   "metadata": {},
   "outputs": [],
   "source": [
    "def show_pc(pc_list):\n",
    "    if SHOW_PC:\n",
    "        new_pc_list = []\n",
    "        pc_1 = pc_list[0]\n",
    "        # define first point cloud color\n",
    "        pc_1_size = len(np.asarray(pc_1.points))\n",
    "        np_colors = np.array([COLORS['red'] for _ in range(pc_1_size)])\n",
    "        pc_1.colors = o3d.utility.Vector3dVector(np_colors)\n",
    "        new_pc_list.append(pc_1)\n",
    "\n",
    "        if len(pc_list) == 2 or len(pc_list) == 3 or len(pc_list) == 4:\n",
    "            pc_2 = pc_list[1]\n",
    "\n",
    "            # offset the second point cloud\n",
    "            offset_pc = o3d.geometry.PointCloud(pc_list[1])\n",
    "            offset_pc.points = o3d.utility.Vector3dVector(\n",
    "                np.asarray(pc_2.points) + [0.0, 0.0, -5.0])\n",
    "            offset_pc_size = len(np.asarray(offset_pc.points))\n",
    "\n",
    "            # define second point cloud color\n",
    "            np_colors = np.array([COLORS['green'] for _ in range(offset_pc_size)])\n",
    "            offset_pc.colors = o3d.utility.Vector3dVector(np_colors)\n",
    "            \n",
    "            new_pc_list.append(offset_pc)\n",
    "        \n",
    "        if len(pc_list) == 3 or len(pc_list) == 4:\n",
    "            pc_3 = pc_list[2]\n",
    "\n",
    "            # offset the third point cloud\n",
    "            offset_pc = o3d.geometry.PointCloud(pc_3)\n",
    "            offset_pc.points = o3d.utility.Vector3dVector(\n",
    "                np.asarray(pc_3.points) + [0.0, 0.0, -10.0])\n",
    "            offset_pc_size = len(np.asarray(offset_pc.points))\n",
    "\n",
    "            # define the point cloud color\n",
    "            np_colors = np.array([COLORS['blue'] for _ in range(offset_pc_size)])\n",
    "            offset_pc.colors = o3d.utility.Vector3dVector(np_colors)\n",
    "\n",
    "            new_pc_list.append(offset_pc)\n",
    "                \n",
    "        if len(pc_list) == 4:\n",
    "            pc_4 = pc_list[3]\n",
    "\n",
    "            # offset the third point cloud\n",
    "            offset_pc = o3d.geometry.PointCloud(pc_4)\n",
    "            offset_pc.points = o3d.utility.Vector3dVector(\n",
    "                np.asarray(pc_4.points) + [0.0, 0.0, -15.0])\n",
    "            offset_pc_size = len(np.asarray(offset_pc.points))\n",
    "\n",
    "            # define the point cloud color\n",
    "            np_colors = np.array([COLORS['black'] for _ in range(offset_pc_size)])\n",
    "            offset_pc.colors = o3d.utility.Vector3dVector(np_colors)\n",
    "\n",
    "            new_pc_list.append(offset_pc)\n",
    "\n",
    "        o3d.visualization.draw_geometries(new_pc_list)"
   ]
  },
  {
   "cell_type": "code",
   "execution_count": 7,
   "metadata": {},
   "outputs": [],
   "source": [
    "def sort_pc(pc):\n",
    "    pc_np = np.asarray(pc.points)\n",
    "    idx_sorted_pc = np.lexsort((pc_np[:,1], pc_np[:,0]))\n",
    "    new_pc = o3d.geometry.PointCloud()\n",
    "    new_pc.points = o3d.utility.Vector3dVector(pc_np[idx_sorted_pc])\n",
    "    return new_pc"
   ]
  },
  {
   "cell_type": "code",
   "execution_count": 8,
   "metadata": {},
   "outputs": [],
   "source": [
    "def get_min_max(pc):\n",
    "    pc_np = np.asarray(pc.points)\n",
    "    p_max, p_min = np.amax(pc_np, axis=0), np.amin(pc_np, axis=0)\n",
    "    return p_max, p_min"
   ]
  },
  {
   "cell_type": "code",
   "execution_count": 9,
   "metadata": {},
   "outputs": [],
   "source": [
    "def split_map(pc):\n",
    "    pc_np = np.asarray(pc.points)\n",
    "    new_pc_np = pc_np[(pc_np[:,0] >= -1.5) & (pc_np[:,0] <= 1.5)]\n",
    "    new_pc = o3d.geometry.PointCloud()\n",
    "    new_pc.points = o3d.utility.Vector3dVector(new_pc_np)\n",
    "    print(f'Reduzed {len(pc_np)} point to {len(new_pc_np)} points.')\n",
    "    return new_pc"
   ]
  },
  {
   "cell_type": "code",
   "execution_count": 10,
   "metadata": {},
   "outputs": [],
   "source": [
    "def get_pc_from_pts_set(pc_set, pc):\n",
    "    pts_list = list(pc_set)\n",
    "    pc_np = np.asarray(pc.points) \n",
    "    pc_np_from_pts = pc_np[pts_list]\n",
    "\n",
    "    new_pc = o3d.geometry.PointCloud()\n",
    "    new_pc.points = o3d.utility.Vector3dVector(pc_np_from_pts)\n",
    "    return new_pc"
   ]
  },
  {
   "cell_type": "code",
   "execution_count": 11,
   "metadata": {},
   "outputs": [],
   "source": [
    "def get_diff_idx_pc(pc_set, pc):\n",
    "    pts_list, diff_pts = list(pc_set), []\n",
    "    pc_np = np.asarray(pc.points) \n",
    "    for idx, p in enumerate(pc_np):\n",
    "        if idx not in pts_list:\n",
    "            diff_pts.append(idx)\n",
    "    pc_np_from_pts = pc_np[diff_pts]\n",
    "\n",
    "    new_pc = o3d.geometry.PointCloud()\n",
    "    new_pc.points = o3d.utility.Vector3dVector(pc_np_from_pts)\n",
    "    return new_pc"
   ]
  },
  {
   "cell_type": "code",
   "execution_count": 12,
   "metadata": {},
   "outputs": [],
   "source": [
    "def break_chunks(pc):\n",
    "    pc_np = np.asarray(pc.points) \n",
    "    print(f'Received point cloud of size {len(pc_np)}')\n",
    "    pc_np_size = len(pc_np)\n",
    "    chunks, init, last = [], 0, CHUNKS\n",
    "    while pc_np_size >= CHUNKS:\n",
    "        pc_np_size -= CHUNKS\n",
    "        chunk = pc_np[init:last]\n",
    "        chunk_pc = o3d.geometry.PointCloud()\n",
    "        chunk_pc.points = o3d.utility.Vector3dVector(chunk)\n",
    "        chunks.append(chunk_pc)\n",
    "        init = last\n",
    "        last += CHUNKS\n",
    "        print(f'Colleting chunk of {len(chunk)}')\n",
    "    \n",
    "    if pc_np_size > 0:\n",
    "        chunk = pc_np[len(pc_np)-pc_np_size:]\n",
    "        chunk_pc = o3d.geometry.PointCloud()\n",
    "        chunk_pc.points = o3d.utility.Vector3dVector(chunk)\n",
    "        chunks.append(chunk_pc)\n",
    "        print(f'Colleting last chunk of {len(chunk)}')\n",
    "\n",
    "    return chunks"
   ]
  },
  {
   "cell_type": "code",
   "execution_count": 13,
   "metadata": {},
   "outputs": [],
   "source": [
    "point_clouds = []"
   ]
  },
  {
   "cell_type": "code",
   "execution_count": 14,
   "metadata": {
    "tags": []
   },
   "outputs": [
    {
     "output_type": "stream",
     "name": "stdout",
     "text": [
      "Collecting pc:  /home/dayoff/codes/point_cloud_lib/data/kitti/0000000000.ply\nPCD 0:\n geometry::PointCloud with 120574 points. \nPCD 0 size:  120574 \n\nPCD 0 colors: \n [[  0.   0. 255.]\n [  0.   0. 255.]\n [  0.   0. 255.]\n ...\n [  0.   0. 255.]\n [  0.   0. 255.]\n [  0.   0. 255.]] \n\nPCD 0 points:\n [[74.536  9.937  2.752]\n [74.558 10.178  2.754]\n [74.569 10.419  2.755]\n ...\n [ 3.705 -1.394 -1.73 ]\n [ 3.611 -1.345 -1.681]\n [ 3.73  -1.377 -1.738]]\n"
     ]
    }
   ],
   "source": [
    "pc = load_point_cloud(0, 'blue')\n",
    "sorted_pc = sort_pc(pc)\n",
    "# partial_pc = split_map(sorted_pc)\n",
    "point_clouds.append(sorted_pc)\n",
    "# show_pc([pc, partial_pc])"
   ]
  },
  {
   "cell_type": "code",
   "execution_count": 15,
   "metadata": {},
   "outputs": [
    {
     "output_type": "stream",
     "name": "stdout",
     "text": [
      "Collecting pc:  /home/dayoff/codes/point_cloud_lib/data/kitti/0000000010.ply\nPCD 1:\n geometry::PointCloud with 122227 points. \nPCD 1 size:  122227 \n\nPCD 1 colors: \n [[255.   0.   0.]\n [255.   0.   0.]\n [255.   0.   0.]\n ...\n [255.   0.   0.]\n [255.   0.   0.]\n [255.   0.   0.]] \n\nPCD 1 points:\n [[78.601 10.984  2.893]\n [67.496  9.644  2.515]\n [67.487  9.859  2.515]\n ...\n [ 3.779 -1.43  -1.768]\n [ 3.809 -1.427 -1.78 ]\n [ 3.786 -1.405 -1.767]]\n"
     ]
    }
   ],
   "source": [
    "pc = load_point_cloud(10, 'red')\n",
    "sorted_pc = sort_pc(pc)\n",
    "# partial_pc = split_map(sorted_pc)\n",
    "point_clouds.append(sorted_pc)\n",
    "# show_pc([pc, partial_pc])"
   ]
  },
  {
   "cell_type": "code",
   "execution_count": 16,
   "metadata": {},
   "outputs": [],
   "source": [
    "def kdtrees(pc_1, pc_2):\n",
    "    pc_1_np, pc_2_np = np.asarray(pc_1.points), np.asarray(pc_2.points) \n",
    "    print('building first kdtree')\n",
    "    pc1_kdtree = spt.cKDTree(pc_1_np)\n",
    "    print('building second kdtree')\n",
    "    pc2_kdtree = spt.cKDTree(pc_2_np)\n",
    "    print('finished both kdtrees')\n",
    "    return pc1_kdtree, pc2_kdtree"
   ]
  },
  {
   "cell_type": "code",
   "execution_count": 17,
   "metadata": {},
   "outputs": [],
   "source": [
    "def kdtree_radius_search(pc_1, pc_2):\n",
    "    pc_1_np, pc_2_np = np.asarray(pc_1.points, dtype=np.float32), np.asarray(pc_2.points, dtype=np.float32)\n",
    "    cloud_1, cloud_2 = pcl.PointCloud(), pcl.PointCloud()\n",
    "    cloud_1.from_array(pc_1_np)\n",
    "    cloud_2.from_array(pc_2_np)\n",
    "    kdtree = cloud_2.make_kdtree_flann()\n",
    "    print(kdtree)\n",
    "    indices, sqr_distances = kdtree.nearest_k_search_for_cloud(cloud_1, 1)\n",
    "    print(indices, sqr_distances)\n",
    "    return np.squeeze(sqr_distances), np.squeeze(indices)"
   ]
  },
  {
   "cell_type": "code",
   "execution_count": 18,
   "metadata": {},
   "outputs": [],
   "source": [
    "idx, dist = kdtree_radius_search(point_clouds[0], point_clouds[1])"
   ]
  },
  {
   "cell_type": "code",
   "execution_count": 1,
   "metadata": {},
   "outputs": [
    {
     "output_type": "error",
     "ename": "NameError",
     "evalue": "name 'idx' is not defined",
     "traceback": [
      "\u001b[0;31m---------------------------------------------------------------------------\u001b[0m",
      "\u001b[0;31mNameError\u001b[0m                                 Traceback (most recent call last)",
      "\u001b[0;32m<ipython-input-1-1e35f44cecab>\u001b[0m in \u001b[0;36m<module>\u001b[0;34m\u001b[0m\n\u001b[0;32m----> 1\u001b[0;31m \u001b[0midx\u001b[0m\u001b[0;34m,\u001b[0m \u001b[0mdist\u001b[0m\u001b[0;34m\u001b[0m\u001b[0;34m\u001b[0m\u001b[0m\n\u001b[0m",
      "\u001b[0;31mNameError\u001b[0m: name 'idx' is not defined"
     ]
    }
   ],
   "source": [
    "idx, dist"
   ]
  },
  {
   "cell_type": "code",
   "execution_count": 2,
   "metadata": {},
   "outputs": [
    {
     "output_type": "error",
     "ename": "NameError",
     "evalue": "name 'idx' is not defined",
     "traceback": [
      "\u001b[0;31m---------------------------------------------------------------------------\u001b[0m",
      "\u001b[0;31mNameError\u001b[0m                                 Traceback (most recent call last)",
      "\u001b[0;32m<ipython-input-2-1e35f44cecab>\u001b[0m in \u001b[0;36m<module>\u001b[0;34m\u001b[0m\n\u001b[0;32m----> 1\u001b[0;31m \u001b[0midx\u001b[0m\u001b[0;34m,\u001b[0m \u001b[0mdist\u001b[0m\u001b[0;34m\u001b[0m\u001b[0;34m\u001b[0m\u001b[0m\n\u001b[0m",
      "\u001b[0;31mNameError\u001b[0m: name 'idx' is not defined"
     ]
    }
   ],
   "source": [
    "idx, dist"
   ]
  },
  {
   "cell_type": "code",
   "execution_count": null,
   "metadata": {},
   "outputs": [],
   "source": [
    "pc1_kdtree, pc2_kdtree = kdtrees(point_clouds[0], point_clouds[1])"
   ]
  },
  {
   "cell_type": "code",
   "execution_count": 1,
   "metadata": {},
   "outputs": [
    {
     "output_type": "error",
     "ename": "NameError",
     "evalue": "name 'idx' is not defined",
     "traceback": [
      "\u001b[0;31m---------------------------------------------------------------------------\u001b[0m",
      "\u001b[0;31mNameError\u001b[0m                                 Traceback (most recent call last)",
      "\u001b[0;32m<ipython-input-1-1e35f44cecab>\u001b[0m in \u001b[0;36m<module>\u001b[0;34m\u001b[0m\n\u001b[0;32m----> 1\u001b[0;31m \u001b[0midx\u001b[0m\u001b[0;34m,\u001b[0m \u001b[0mdist\u001b[0m\u001b[0;34m\u001b[0m\u001b[0;34m\u001b[0m\u001b[0m\n\u001b[0m",
      "\u001b[0;31mNameError\u001b[0m: name 'idx' is not defined"
     ]
    }
   ],
   "source": [
    "idx, dist"
   ]
  },
  {
   "cell_type": "code",
   "execution_count": 33,
   "metadata": {},
   "outputs": [],
   "source": [
    "dist_mat = pc2_kdtree.sparse_distance_matrix(pc1_kdtree, THRESHOLD, p=2.0, output_type='ndarray')"
   ]
  },
  {
   "cell_type": "code",
   "execution_count": 34,
   "metadata": {},
   "outputs": [],
   "source": [
    "upper_dist_mat = dist_mat[dist_mat['i'] < dist_mat['j']]"
   ]
  },
  {
   "cell_type": "code",
   "execution_count": 35,
   "metadata": {},
   "outputs": [
    {
     "output_type": "execute_result",
     "data": {
      "text/plain": [
       "array([(  360,   397, 0.49465341), (  364,   397, 0.49785339),\n",
       "       (  392,   407, 0.47970512), ..., (92039, 92104, 0.4919563 ),\n",
       "       (92303, 92381, 0.47307293), (91725, 91967, 0.49037333)],\n",
       "      dtype={'names':['i','j','v'], 'formats':['<i8','<i8','<f8'], 'offsets':[0,8,16], 'itemsize':24, 'aligned':True})"
      ]
     },
     "metadata": {},
     "execution_count": 35
    }
   ],
   "source": [
    "upper_dist_mat"
   ]
  },
  {
   "cell_type": "code",
   "execution_count": 37,
   "metadata": {},
   "outputs": [],
   "source": [
    "new_sparse_mat = scipy.sparse.coo_matrix((upper_dist_mat['v'], (upper_dist_mat['i'], upper_dist_mat['j'])), (125000, 125000))"
   ]
  },
  {
   "cell_type": "code",
   "execution_count": 38,
   "metadata": {},
   "outputs": [
    {
     "output_type": "execute_result",
     "data": {
      "text/plain": [
       "<125000x125000 sparse matrix of type '<class 'numpy.float64'>'\n",
       "\twith 2964531 stored elements in COOrdinate format>"
      ]
     },
     "metadata": {},
     "execution_count": 38
    }
   ],
   "source": [
    "new_sparse_mat"
   ]
  },
  {
   "cell_type": "code",
   "execution_count": 40,
   "metadata": {},
   "outputs": [
    {
     "output_type": "error",
     "ename": "MemoryError",
     "evalue": "Unable to allocate 116. GiB for an array with shape (125000, 125000) and data type float64",
     "traceback": [
      "\u001b[0;31m---------------------------------------------------------------------------\u001b[0m",
      "\u001b[0;31mMemoryError\u001b[0m                               Traceback (most recent call last)",
      "\u001b[0;32m<ipython-input-40-0efd21a00dc7>\u001b[0m in \u001b[0;36m<module>\u001b[0;34m\u001b[0m\n\u001b[0;32m----> 1\u001b[0;31m \u001b[0mcluster_pc\u001b[0m \u001b[0;34m=\u001b[0m \u001b[0mget_pc_from_pts_set\u001b[0m\u001b[0;34m(\u001b[0m\u001b[0mnew_sparse_mat\u001b[0m\u001b[0;34m.\u001b[0m\u001b[0mtoarray\u001b[0m\u001b[0;34m(\u001b[0m\u001b[0;34m)\u001b[0m\u001b[0;34m,\u001b[0m \u001b[0mpoint_clouds\u001b[0m\u001b[0;34m[\u001b[0m\u001b[0;36m1\u001b[0m\u001b[0;34m]\u001b[0m\u001b[0;34m)\u001b[0m\u001b[0;34m\u001b[0m\u001b[0;34m\u001b[0m\u001b[0m\n\u001b[0m\u001b[1;32m      2\u001b[0m \u001b[0moff_cluster_pc\u001b[0m \u001b[0;34m=\u001b[0m \u001b[0mget_diff_idx_pc\u001b[0m\u001b[0;34m(\u001b[0m\u001b[0mnew_sparse_mat\u001b[0m\u001b[0;34m.\u001b[0m\u001b[0mtoarray\u001b[0m\u001b[0;34m(\u001b[0m\u001b[0;34m)\u001b[0m\u001b[0;34m,\u001b[0m \u001b[0mpoint_clouds\u001b[0m\u001b[0;34m[\u001b[0m\u001b[0;36m1\u001b[0m\u001b[0;34m]\u001b[0m\u001b[0;34m)\u001b[0m\u001b[0;34m\u001b[0m\u001b[0;34m\u001b[0m\u001b[0m\n",
      "\u001b[0;32m/usr/local/lib/python3.8/dist-packages/scipy/sparse/coo.py\u001b[0m in \u001b[0;36mtoarray\u001b[0;34m(self, order, out)\u001b[0m\n\u001b[1;32m    319\u001b[0m     \u001b[0;32mdef\u001b[0m \u001b[0mtoarray\u001b[0m\u001b[0;34m(\u001b[0m\u001b[0mself\u001b[0m\u001b[0;34m,\u001b[0m \u001b[0morder\u001b[0m\u001b[0;34m=\u001b[0m\u001b[0;32mNone\u001b[0m\u001b[0;34m,\u001b[0m \u001b[0mout\u001b[0m\u001b[0;34m=\u001b[0m\u001b[0;32mNone\u001b[0m\u001b[0;34m)\u001b[0m\u001b[0;34m:\u001b[0m\u001b[0;34m\u001b[0m\u001b[0;34m\u001b[0m\u001b[0m\n\u001b[1;32m    320\u001b[0m         \u001b[0;34m\"\"\"See the docstring for `spmatrix.toarray`.\"\"\"\u001b[0m\u001b[0;34m\u001b[0m\u001b[0;34m\u001b[0m\u001b[0m\n\u001b[0;32m--> 321\u001b[0;31m         \u001b[0mB\u001b[0m \u001b[0;34m=\u001b[0m \u001b[0mself\u001b[0m\u001b[0;34m.\u001b[0m\u001b[0m_process_toarray_args\u001b[0m\u001b[0;34m(\u001b[0m\u001b[0morder\u001b[0m\u001b[0;34m,\u001b[0m \u001b[0mout\u001b[0m\u001b[0;34m)\u001b[0m\u001b[0;34m\u001b[0m\u001b[0;34m\u001b[0m\u001b[0m\n\u001b[0m\u001b[1;32m    322\u001b[0m         \u001b[0mfortran\u001b[0m \u001b[0;34m=\u001b[0m \u001b[0mint\u001b[0m\u001b[0;34m(\u001b[0m\u001b[0mB\u001b[0m\u001b[0;34m.\u001b[0m\u001b[0mflags\u001b[0m\u001b[0;34m.\u001b[0m\u001b[0mf_contiguous\u001b[0m\u001b[0;34m)\u001b[0m\u001b[0;34m\u001b[0m\u001b[0;34m\u001b[0m\u001b[0m\n\u001b[1;32m    323\u001b[0m         \u001b[0;32mif\u001b[0m \u001b[0;32mnot\u001b[0m \u001b[0mfortran\u001b[0m \u001b[0;32mand\u001b[0m \u001b[0;32mnot\u001b[0m \u001b[0mB\u001b[0m\u001b[0;34m.\u001b[0m\u001b[0mflags\u001b[0m\u001b[0;34m.\u001b[0m\u001b[0mc_contiguous\u001b[0m\u001b[0;34m:\u001b[0m\u001b[0;34m\u001b[0m\u001b[0;34m\u001b[0m\u001b[0m\n",
      "\u001b[0;32m/usr/local/lib/python3.8/dist-packages/scipy/sparse/base.py\u001b[0m in \u001b[0;36m_process_toarray_args\u001b[0;34m(self, order, out)\u001b[0m\n\u001b[1;32m   1183\u001b[0m             \u001b[0;32mreturn\u001b[0m \u001b[0mout\u001b[0m\u001b[0;34m\u001b[0m\u001b[0;34m\u001b[0m\u001b[0m\n\u001b[1;32m   1184\u001b[0m         \u001b[0;32melse\u001b[0m\u001b[0;34m:\u001b[0m\u001b[0;34m\u001b[0m\u001b[0;34m\u001b[0m\u001b[0m\n\u001b[0;32m-> 1185\u001b[0;31m             \u001b[0;32mreturn\u001b[0m \u001b[0mnp\u001b[0m\u001b[0;34m.\u001b[0m\u001b[0mzeros\u001b[0m\u001b[0;34m(\u001b[0m\u001b[0mself\u001b[0m\u001b[0;34m.\u001b[0m\u001b[0mshape\u001b[0m\u001b[0;34m,\u001b[0m \u001b[0mdtype\u001b[0m\u001b[0;34m=\u001b[0m\u001b[0mself\u001b[0m\u001b[0;34m.\u001b[0m\u001b[0mdtype\u001b[0m\u001b[0;34m,\u001b[0m \u001b[0morder\u001b[0m\u001b[0;34m=\u001b[0m\u001b[0morder\u001b[0m\u001b[0;34m)\u001b[0m\u001b[0;34m\u001b[0m\u001b[0;34m\u001b[0m\u001b[0m\n\u001b[0m\u001b[1;32m   1186\u001b[0m \u001b[0;34m\u001b[0m\u001b[0m\n\u001b[1;32m   1187\u001b[0m \u001b[0;34m\u001b[0m\u001b[0m\n",
      "\u001b[0;31mMemoryError\u001b[0m: Unable to allocate 116. GiB for an array with shape (125000, 125000) and data type float64"
     ]
    }
   ],
   "source": [
    "cluster_pc = get_pc_from_pts_set(new_sparse_mat.toarray(), point_clouds[1])\n",
    "off_cluster_pc = get_diff_idx_pc(new_sparse_mat.toarray(), point_clouds[1])"
   ]
  },
  {
   "cell_type": "code",
   "execution_count": 32,
   "metadata": {},
   "outputs": [
    {
     "output_type": "error",
     "ename": "MemoryError",
     "evalue": "Unable to allocate 110. GiB for an array with shape (122227, 120574) and data type float64",
     "traceback": [
      "\u001b[0;31m---------------------------------------------------------------------------\u001b[0m",
      "\u001b[0;31mMemoryError\u001b[0m                               Traceback (most recent call last)",
      "\u001b[0;32m<ipython-input-32-0890cf445343>\u001b[0m in \u001b[0;36m<module>\u001b[0;34m\u001b[0m\n\u001b[0;32m----> 1\u001b[0;31m \u001b[0mcluster_pts\u001b[0m \u001b[0;34m=\u001b[0m \u001b[0mscipy_eucl_dist\u001b[0m\u001b[0;34m(\u001b[0m\u001b[0mpoint_clouds\u001b[0m\u001b[0;34m[\u001b[0m\u001b[0;36m0\u001b[0m\u001b[0;34m]\u001b[0m\u001b[0;34m,\u001b[0m \u001b[0mpoint_clouds\u001b[0m\u001b[0;34m[\u001b[0m\u001b[0;36m1\u001b[0m\u001b[0;34m]\u001b[0m\u001b[0;34m,\u001b[0m \u001b[0;32mTrue\u001b[0m\u001b[0;34m)\u001b[0m\u001b[0;34m\u001b[0m\u001b[0;34m\u001b[0m\u001b[0m\n\u001b[0m",
      "\u001b[0;32m<ipython-input-31-a8293477d3e7>\u001b[0m in \u001b[0;36mscipy_eucl_dist\u001b[0;34m(pc_1, pc_2, use_tqdm)\u001b[0m\n\u001b[1;32m      1\u001b[0m \u001b[0;32mdef\u001b[0m \u001b[0mscipy_eucl_dist\u001b[0m\u001b[0;34m(\u001b[0m\u001b[0mpc_1\u001b[0m\u001b[0;34m,\u001b[0m \u001b[0mpc_2\u001b[0m\u001b[0;34m,\u001b[0m \u001b[0muse_tqdm\u001b[0m\u001b[0;34m=\u001b[0m\u001b[0;32mFalse\u001b[0m\u001b[0;34m)\u001b[0m\u001b[0;34m:\u001b[0m\u001b[0;34m\u001b[0m\u001b[0;34m\u001b[0m\u001b[0m\n\u001b[1;32m      2\u001b[0m     \u001b[0mv1\u001b[0m\u001b[0;34m,\u001b[0m \u001b[0mv2\u001b[0m \u001b[0;34m=\u001b[0m \u001b[0mnp\u001b[0m\u001b[0;34m.\u001b[0m\u001b[0masarray\u001b[0m\u001b[0;34m(\u001b[0m\u001b[0mpc_1\u001b[0m\u001b[0;34m.\u001b[0m\u001b[0mpoints\u001b[0m\u001b[0;34m)\u001b[0m\u001b[0;34m,\u001b[0m \u001b[0mnp\u001b[0m\u001b[0;34m.\u001b[0m\u001b[0masarray\u001b[0m\u001b[0;34m(\u001b[0m\u001b[0mpc_2\u001b[0m\u001b[0;34m.\u001b[0m\u001b[0mpoints\u001b[0m\u001b[0;34m)\u001b[0m\u001b[0;34m\u001b[0m\u001b[0;34m\u001b[0m\u001b[0m\n\u001b[0;32m----> 3\u001b[0;31m     \u001b[0;32mreturn\u001b[0m \u001b[0mspt\u001b[0m\u001b[0;34m.\u001b[0m\u001b[0mdistance\u001b[0m\u001b[0;34m.\u001b[0m\u001b[0mcdist\u001b[0m\u001b[0;34m(\u001b[0m\u001b[0mv2\u001b[0m\u001b[0;34m,\u001b[0m \u001b[0mv1\u001b[0m\u001b[0;34m)\u001b[0m\u001b[0;34m\u001b[0m\u001b[0;34m\u001b[0m\u001b[0m\n\u001b[0m",
      "\u001b[0;32m/usr/local/lib/python3.8/dist-packages/scipy/spatial/distance.py\u001b[0m in \u001b[0;36mcdist\u001b[0;34m(XA, XB, metric, *args, **kwargs)\u001b[0m\n\u001b[1;32m   2718\u001b[0m     \u001b[0mout\u001b[0m \u001b[0;34m=\u001b[0m \u001b[0mkwargs\u001b[0m\u001b[0;34m.\u001b[0m\u001b[0mpop\u001b[0m\u001b[0;34m(\u001b[0m\u001b[0;34m\"out\"\u001b[0m\u001b[0;34m,\u001b[0m \u001b[0;32mNone\u001b[0m\u001b[0;34m)\u001b[0m\u001b[0;34m\u001b[0m\u001b[0;34m\u001b[0m\u001b[0m\n\u001b[1;32m   2719\u001b[0m     \u001b[0;32mif\u001b[0m \u001b[0mout\u001b[0m \u001b[0;32mis\u001b[0m \u001b[0;32mNone\u001b[0m\u001b[0;34m:\u001b[0m\u001b[0;34m\u001b[0m\u001b[0;34m\u001b[0m\u001b[0m\n\u001b[0;32m-> 2720\u001b[0;31m         \u001b[0mdm\u001b[0m \u001b[0;34m=\u001b[0m \u001b[0mnp\u001b[0m\u001b[0;34m.\u001b[0m\u001b[0mempty\u001b[0m\u001b[0;34m(\u001b[0m\u001b[0;34m(\u001b[0m\u001b[0mmA\u001b[0m\u001b[0;34m,\u001b[0m \u001b[0mmB\u001b[0m\u001b[0;34m)\u001b[0m\u001b[0;34m,\u001b[0m \u001b[0mdtype\u001b[0m\u001b[0;34m=\u001b[0m\u001b[0mnp\u001b[0m\u001b[0;34m.\u001b[0m\u001b[0mdouble\u001b[0m\u001b[0;34m)\u001b[0m\u001b[0;34m\u001b[0m\u001b[0;34m\u001b[0m\u001b[0m\n\u001b[0m\u001b[1;32m   2721\u001b[0m     \u001b[0;32melse\u001b[0m\u001b[0;34m:\u001b[0m\u001b[0;34m\u001b[0m\u001b[0;34m\u001b[0m\u001b[0m\n\u001b[1;32m   2722\u001b[0m         \u001b[0;32mif\u001b[0m \u001b[0mout\u001b[0m\u001b[0;34m.\u001b[0m\u001b[0mshape\u001b[0m \u001b[0;34m!=\u001b[0m \u001b[0;34m(\u001b[0m\u001b[0mmA\u001b[0m\u001b[0;34m,\u001b[0m \u001b[0mmB\u001b[0m\u001b[0;34m)\u001b[0m\u001b[0;34m:\u001b[0m\u001b[0;34m\u001b[0m\u001b[0;34m\u001b[0m\u001b[0m\n",
      "\u001b[0;31mMemoryError\u001b[0m: Unable to allocate 110. GiB for an array with shape (122227, 120574) and data type float64"
     ]
    }
   ],
   "source": [
    "cluster_pts = scipy_eucl_dist(point_clouds[0], point_clouds[1], True)"
   ]
  },
  {
   "cell_type": "code",
   "execution_count": 21,
   "metadata": {},
   "outputs": [],
   "source": [
    "cluster_pc = get_pc_from_pts_set(cluster_pts, point_clouds[1])\n",
    "off_cluster_pc = get_diff_idx_pc(cluster_pts, point_clouds[1])"
   ]
  },
  {
   "cell_type": "code",
   "execution_count": 22,
   "metadata": {},
   "outputs": [],
   "source": [
    "show_pc([point_clouds[0], point_clouds[1], cluster_pc, off_cluster_pc])"
   ]
  }
 ]
}
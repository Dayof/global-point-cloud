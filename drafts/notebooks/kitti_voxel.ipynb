{
 "metadata": {
  "language_info": {
   "codemirror_mode": {
    "name": "ipython",
    "version": 3
   },
   "file_extension": ".py",
   "mimetype": "text/x-python",
   "name": "python",
   "nbconvert_exporter": "python",
   "pygments_lexer": "ipython3",
   "version": "3.8.5-final"
  },
  "orig_nbformat": 2,
  "kernelspec": {
   "name": "python38264bitvenvvenvb854ac44ac8248b2b21346efe14f232f",
   "display_name": "Python 3.8.2 64-bit ('venv': venv)"
  }
 },
 "nbformat": 4,
 "nbformat_minor": 2,
 "cells": [
  {
   "cell_type": "code",
   "execution_count": 2,
   "metadata": {},
   "outputs": [],
   "source": [
    "import open3d as o3d \n",
    "import numpy as np\n",
    "from pathlib import Path"
   ]
  },
  {
   "cell_type": "code",
   "execution_count": 3,
   "metadata": {
    "tags": []
   },
   "outputs": [
    {
     "output_type": "stream",
     "name": "stdout",
     "text": [
      "/home/dayoff/codes/point_cloud_lib/data\n"
     ]
    }
   ],
   "source": [
    "BASE = Path().resolve().parents[0]\n",
    "DATA_PATH = BASE / 'data'\n",
    "print(DATA_PATH)\n",
    "SHOW_PC = True"
   ]
  },
  {
   "cell_type": "code",
   "execution_count": 4,
   "metadata": {
    "tags": []
   },
   "outputs": [
    {
     "output_type": "stream",
     "name": "stdout",
     "text": [
      "geometry::PointCloud with 120574 points.\n[[74.536  9.937  2.752]\n [74.558 10.178  2.754]\n [74.569 10.419  2.755]\n ...\n [ 3.705 -1.394 -1.73 ]\n [ 3.611 -1.345 -1.681]\n [ 3.73  -1.377 -1.738]]\n"
     ]
    }
   ],
   "source": [
    "# get first point cloud\n",
    "pc_path = DATA_PATH / 'kitti' / '0000000000.ply'\n",
    "\n",
    "# supported types: pcd, ply, xyz, xyzrgb, xyzn, pts.\n",
    "# I had to transform .txt files from kitti to ply\n",
    "pcd = o3d.io.read_point_cloud(str(pc_path), format='ply')\n",
    "print(pcd)\n",
    "print(np.asarray(pcd.points))\n",
    "if SHOW_PC:\n",
    "    o3d.visualization.draw_geometries([pcd])"
   ]
  },
  {
   "cell_type": "code",
   "execution_count": 5,
   "metadata": {
    "tags": []
   },
   "outputs": [
    {
     "output_type": "stream",
     "name": "stdout",
     "text": [
      "geometry::PointCloud with 91905 points. geometry::PointCloud with 120574 points.\n"
     ]
    }
   ],
   "source": [
    "# visualize point cloud voxelized\n",
    "downpcd, trace, old_points = pcd.voxel_down_sample_and_trace(0.05, pcd.get_min_bound(), pcd.get_max_bound(), False)\n",
    "print(downpcd, pcd)\n",
    "if SHOW_PC:\n",
    "    o3d.visualization.draw_geometries([downpcd])"
   ]
  },
  {
   "cell_type": "code",
   "execution_count": 6,
   "metadata": {},
   "outputs": [],
   "source": [
    "downpcd_np = np.asarray(downpcd.points)\n",
    "idx_sorted = np.lexsort((downpcd_np[:,1], downpcd_np[:,0]))\n",
    "new_downpcd = o3d.geometry.PointCloud()\n",
    "new_downpcd.points = o3d.utility.Vector3dVector(downpcd_np[idx_sorted])"
   ]
  },
  {
   "cell_type": "code",
   "execution_count": 7,
   "metadata": {},
   "outputs": [
    {
     "output_type": "execute_result",
     "data": {
      "text/plain": [
       "geometry::PointCloud with 91905 points."
      ]
     },
     "metadata": {},
     "execution_count": 7
    }
   ],
   "source": [
    "new_downpcd"
   ]
  },
  {
   "cell_type": "code",
   "execution_count": 8,
   "metadata": {
    "tags": []
   },
   "outputs": [
    {
     "output_type": "execute_result",
     "data": {
      "text/plain": [
       "True"
      ]
     },
     "metadata": {},
     "execution_count": 8
    }
   ],
   "source": [
    "# save voxalized point cloud\n",
    "voxel_filename = DATA_PATH / 'open3d' / '0000000000.ply'\n",
    "o3d.io.write_point_cloud(str(voxel_filename), new_downpcd, write_ascii=True)"
   ]
  },
  {
   "cell_type": "code",
   "execution_count": 9,
   "metadata": {},
   "outputs": [
    {
     "output_type": "execute_result",
     "data": {
      "text/plain": [
       "geometry::PointCloud with 120574 points."
      ]
     },
     "metadata": {},
     "execution_count": 9
    }
   ],
   "source": [
    "sorted_pcd = np.asarray(pcd.points)\n",
    "idx_sorted_pdc = np.lexsort((sorted_pcd[:,1], sorted_pcd[:,0]))\n",
    "new_pcd = o3d.geometry.PointCloud()\n",
    "new_pcd.points = o3d.utility.Vector3dVector(sorted_pcd[idx_sorted_pdc])\n",
    "new_pcd"
   ]
  },
  {
   "cell_type": "code",
   "execution_count": 10,
   "metadata": {},
   "outputs": [
    {
     "output_type": "execute_result",
     "data": {
      "text/plain": [
       "std::vector<Eigen::Vector3d> with 120574 elements.\n",
       "Use numpy.asarray() to access data."
      ]
     },
     "metadata": {},
     "execution_count": 10
    }
   ],
   "source": [
    "pcd.points"
   ]
  },
  {
   "cell_type": "code",
   "execution_count": 11,
   "metadata": {},
   "outputs": [
    {
     "output_type": "execute_result",
     "data": {
      "text/plain": [
       "True"
      ]
     },
     "metadata": {},
     "execution_count": 11
    }
   ],
   "source": [
    "# save sorted voxalized original point cloud\n",
    "voxel_filename = DATA_PATH / 'kitti' / 'sorted_0000000000.ply'\n",
    "o3d.io.write_point_cloud(str(voxel_filename), new_pcd, write_ascii=True)"
   ]
  },
  {
   "cell_type": "code",
   "execution_count": 12,
   "metadata": {
    "tags": []
   },
   "outputs": [
    {
     "output_type": "stream",
     "name": "stdout",
     "text": [
      "[[54.454  1.736  2.051]\n [54.398  1.906  2.05 ]\n [74.238 10.491  2.744]\n ...\n [-9.549  7.993 -2.085]\n [-9.571  7.96  -2.084]\n [-9.594  7.929 -2.084]]\n"
     ]
    },
    {
     "output_type": "execute_result",
     "data": {
      "text/plain": [
       "True"
      ]
     },
     "metadata": {},
     "execution_count": 12
    }
   ],
   "source": [
    "# second point cloud\n",
    "pc_path = DATA_PATH / 'kitti' / '0000000110.ply'\n",
    "pcd_2 = o3d.io.read_point_cloud(str(pc_path), format='ply')\n",
    "print(np.asarray(pcd_2.points))\n",
    "sorted_pcd_2 = np.asarray(pcd_2.points)\n",
    "idx_sorted_pdc_2 = np.lexsort((sorted_pcd_2[:,1], sorted_pcd_2[:,0]))\n",
    "new_pcd_2 = o3d.geometry.PointCloud()\n",
    "new_pcd_2.points = o3d.utility.Vector3dVector(sorted_pcd_2[idx_sorted_pdc_2])\n",
    "# save sorted voxalized original point cloud\n",
    "voxel_filename = DATA_PATH / 'kitti' / 'sorted_0000000110.ply'\n",
    "o3d.io.write_point_cloud(str(voxel_filename), new_pcd_2, write_ascii=True)"
   ]
  },
  {
   "cell_type": "code",
   "execution_count": 13,
   "metadata": {},
   "outputs": [],
   "source": [
    "offset_pcd_2 = o3d.geometry.PointCloud(new_pcd_2)\n",
    "offset_pcd_2.points = o3d.utility.Vector3dVector(np.asarray(offset_pcd_2.points) + [0.0, 0.0, 10.0])\n",
    "o3d.visualization.draw_geometries([pcd, offset_pcd_2])"
   ]
  },
  {
   "cell_type": "code",
   "execution_count": 14,
   "metadata": {
    "tags": []
   },
   "outputs": [
    {
     "output_type": "stream",
     "name": "stdout",
     "text": [
      "(68290, 3) (120574, 3)\n"
     ]
    },
    {
     "output_type": "execute_result",
     "data": {
      "text/plain": [
       "array([[-78.953,  12.546,  -1.88 ],\n",
       "       [-78.745,  12.767,  -1.876],\n",
       "       [-78.703, -10.832,   2.018],\n",
       "       ...,\n",
       "       [ 78.357,  13.558,   2.019],\n",
       "       [ 78.417, -13.931,   2.022],\n",
       "       [ 78.581,  13.907,   2.401]])"
      ]
     },
     "metadata": {},
     "execution_count": 14
    }
   ],
   "source": [
    "# get common coordinates bettwen 0 and 10\n",
    "# no voxel\n",
    "pcd_arr, pcd_2_arr = np.asarray(new_pcd.points), np.asarray(new_pcd_2.points)\n",
    "intersec_pcd = np.array([point for point in pcd_2_arr if point in pcd_arr])\n",
    "print(intersec_pcd.shape, pcd_arr.shape)\n",
    "intersec_pcd"
   ]
  },
  {
   "cell_type": "code",
   "execution_count": 15,
   "metadata": {
    "tags": []
   },
   "outputs": [
    {
     "output_type": "stream",
     "name": "stdout",
     "text": [
      "geometry::PointCloud with 120574 points. geometry::PointCloud with 68526 points. geometry::PointCloud with 68290 points.\n"
     ]
    }
   ],
   "source": [
    "intersec_pcd_pc = o3d.geometry.PointCloud()\n",
    "intersec_pcd_pc.points = o3d.utility.Vector3dVector(intersec_pcd)\n",
    "intersec_pcd_pc_offset = o3d.geometry.PointCloud()\n",
    "intersec_pcd_pc_offset.points = o3d.utility.Vector3dVector(intersec_pcd + [0.0, 0.0, 20.0])\n",
    "print(pcd, offset_pcd_2, intersec_pcd_pc_offset)\n",
    "o3d.visualization.draw_geometries([pcd, offset_pcd_2, intersec_pcd_pc_offset])"
   ]
  },
  {
   "cell_type": "code",
   "execution_count": null,
   "metadata": {},
   "outputs": [],
   "source": []
  }
 ]
}
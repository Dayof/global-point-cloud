{
 "metadata": {
  "language_info": {
   "codemirror_mode": {
    "name": "ipython",
    "version": 3
   },
   "file_extension": ".py",
   "mimetype": "text/x-python",
   "name": "python",
   "nbconvert_exporter": "python",
   "pygments_lexer": "ipython3",
   "version": "3.8.5-final"
  },
  "orig_nbformat": 2
 },
 "nbformat": 4,
 "nbformat_minor": 2,
 "cells": [
  {
   "cell_type": "code",
   "execution_count": 1,
   "metadata": {},
   "outputs": [
    {
     "output_type": "stream",
     "name": "stdout",
     "text": [
      "\n",
      "Index: 0 V1: [0, 1, 2] V2: [3, 4, 5]\n",
      "Index: 0 V1: [0, 1, 2] V2: [5, 6, 7]\n",
      "\n",
      "\n",
      "Index: 1 V1: [1, 2, 3] V2: [3, 4, 5]\n",
      "Index: 0 V1: [0, 1, 2] V2: [4, 5, 6]\n",
      "\n",
      "\n",
      "Index: 1 V1: [1, 2, 3] V2: [4, 5, 6]\n",
      "Index: 2 V1: [2, 3, 4] V2: [3, 4, 5]\n",
      "\n",
      "\n",
      "Index: 1 V1: [1, 2, 3] V2: [5, 6, 7]\n",
      "Index: 2 V1: [2, 3, 4] V2: [4, 5, 6]\n",
      "\n",
      "\n",
      "Index: 2 V1: [2, 3, 4] V2: [5, 6, 7]\n",
      "final [[0, 1, 2], [1, 2, 3], [2, 3, 4]]\n"
     ]
    }
   ],
   "source": [
    "import itertools\n",
    "import multiprocessing\n",
    "\n",
    "def f(tuple_value):\n",
    "    index, values = tuple_value\n",
    "    print(f'\\nIndex: {index} V1: {values[0]} V2: {values[1]}')\n",
    "    if values[1][2] == 5:\n",
    "        return values[0]\n",
    "\n",
    "if __name__ == '__main__':\n",
    "    pool = multiprocessing.Pool(2)\n",
    "\n",
    "    pc_1_np, pc_2_np = [[0, 1, 2], [1, 2, 3], [2, 3, 4]], [[3, 4, 5], [4, 5, 6], [5, 6, 7]]\n",
    "    idx_pc_1_np = []\n",
    "    for x in range(len(pc_1_np)):\n",
    "        idx_pc_1_np.extend([x]*3)\n",
    "    params = list(itertools.product(pc_1_np, pc_2_np))\n",
    "    params = zip(idx_pc_1_np, params)\n",
    "\n",
    "    res = pool.map(f, params)\n",
    "    res_f = list(filter(None.__ne__, res))\n",
    "\n",
    "print('final', res_f)"
   ]
  },
  {
   "cell_type": "code",
   "execution_count": null,
   "metadata": {},
   "outputs": [],
   "source": [
    "def parallel_brute_force_eucl_dist(pc_1, pc_2):\n",
    "    pts_set = set()\n",
    "\n",
    "    def inner_logic(params):\n",
    "        idx, pcs = params\n",
    "        if check_threshold(pcs[0], pcs[1]):\n",
    "            return idx\n",
    "\n",
    "    pc_1_np, pc_2_np = np.asarray(pc_1.points), np.asarray(pc_2.points)\n",
    "\n",
    "    idx_pc_1_np = []\n",
    "    for x in range(len(pc_1_np)):\n",
    "        idx_pc_1_np.extend([x]*3)\n",
    "\n",
    "    params = list(itertools.product(pc_1_np, pc_2_np))\n",
    "    idx_and_params = zip(idx_pc_1_np, params)\n",
    "\n",
    "    with multiprocessing.Pool(2) as p:\n",
    "        res  = list(tqdm.tqdm(p.imap(inner_logic, idx_and_params)))\n",
    "    \n",
    "    res_f = list(filter(None.__ne__, res))\n",
    "\n",
    "    return res_f"
   ]
  },
  {
   "cell_type": "code",
   "execution_count": null,
   "metadata": {},
   "outputs": [],
   "source": [
    "def chunks_brute_force_eucl_dist_ctrl(chunks_pc_1, chunks_pc_2):\n",
    "    total_pts_list = list()\n",
    "\n",
    "    def handle_chunks(future):\n",
    "        print(f'Executor finished')\n",
    "        chunk_pts_list = list(future.result())\n",
    "        total_pts_list.extend(chunk_pts_list)\n",
    "\n",
    "    with concurrent.futures.ThreadPoolExecutor() as executor:\n",
    "        for idx, (chunk_pc_1, chunk_pc_2) in enumerate(zip(chunks_pc_1, chunks_pc_2)):\n",
    "            print(f'Starting executor {idx}')\n",
    "            future = executor.submit(brute_force_eucl_dist, chunk_pc_1, chunk_pc_2)\n",
    "            future.add_done_callback(handle_chunks)\n",
    "    \n",
    "    print('All executors had finished.')\n",
    "    total_pts_set = set(total_pts_list)\n",
    "    print(f'List points {len(total_pts_list)}, set points {len(total_pts_set)}.')\n",
    "    return total_pts_set"
   ]
  }
 ]
}
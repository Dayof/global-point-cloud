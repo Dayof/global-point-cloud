{
 "metadata": {
  "language_info": {
   "codemirror_mode": {
    "name": "ipython",
    "version": 3
   },
   "file_extension": ".py",
   "mimetype": "text/x-python",
   "name": "python",
   "nbconvert_exporter": "python",
   "pygments_lexer": "ipython3",
   "version": "3.8.5-final"
  },
  "orig_nbformat": 2,
  "kernelspec": {
   "name": "python38264bitvenvvenvb854ac44ac8248b2b21346efe14f232f",
   "display_name": "Python 3.8.2 64-bit ('venv': venv)"
  }
 },
 "nbformat": 4,
 "nbformat_minor": 2,
 "cells": [
  {
   "cell_type": "code",
   "execution_count": 15,
   "metadata": {},
   "outputs": [],
   "source": [
    "import open3d as o3d \n",
    "import numpy as np\n",
    "from pathlib import Path\n",
    "import scipy\n",
    "import math\n",
    "from tqdm import tqdm"
   ]
  },
  {
   "cell_type": "code",
   "execution_count": 16,
   "metadata": {
    "tags": []
   },
   "outputs": [
    {
     "output_type": "stream",
     "name": "stdout",
     "text": [
      "/home/dayoff/codes/point_cloud_lib/data\n"
     ]
    }
   ],
   "source": [
    "# get data base path to collect the point clouds\n",
    "BASE = Path().resolve().parents[1]\n",
    "DATA_PATH = BASE / 'data'\n",
    "print(DATA_PATH)\n",
    "SHOW_PC = True\n",
    "THRESHOLD = 0.5  # 5 cm\n",
    "COLORS = {'green': [0, 255, 0], 'red': [255, 0, 0], 'blue': [0, 0, 255],\n",
    "          'black': [0, 0, 0], 'yellow': [255, 255, 0]}"
   ]
  },
  {
   "cell_type": "code",
   "execution_count": 17,
   "metadata": {},
   "outputs": [],
   "source": [
    "def calc_eucl_dist(p1, p2):\n",
    "    return math.sqrt((p1[0] - p2[0])**2 + (p1[1] - p2[1])**2 + (p1[2] - p2[2])**2)"
   ]
  },
  {
   "cell_type": "code",
   "execution_count": 18,
   "metadata": {},
   "outputs": [],
   "source": [
    "def check_threshold(p1, p2):\n",
    "    if ((p2[0] + THRESHOLD > p1[0]) and (p1[0] > p2[0] - THRESHOLD)) and \\\n",
    "        ((p2[1] + THRESHOLD > p1[1]) and (p1[1] > p2[1] - THRESHOLD)) and \\\n",
    "        ((p2[2] + THRESHOLD > p1[2]) and (p1[2] > p2[2] - THRESHOLD)):\n",
    "        return calc_eucl_dist(p1, p2) <= THRESHOLD"
   ]
  },
  {
   "cell_type": "code",
   "execution_count": 19,
   "metadata": {},
   "outputs": [],
   "source": [
    "def load_point_cloud(idx, color='blue'):\n",
    "    # get first point cloud, assign it with a blue color\n",
    "    filename = f'{idx}'.zfill(10) + '.ply'\n",
    "    pc_path = DATA_PATH / 'kitti' / filename\n",
    "    print('Collecting pc: ', pc_path)\n",
    "    pcd = o3d.io.read_point_cloud(str(pc_path), format='ply')\n",
    "    pcd_size = len(np.asarray(pcd.points))\n",
    "\n",
    "    # define point cloud color\n",
    "    np_colors = np.array([COLORS[color] for _ in range(pcd_size)])\n",
    "    pcd.colors = o3d.utility.Vector3dVector(np_colors)\n",
    "\n",
    "    pc_tot_size = len(point_clouds)\n",
    "    # show point cloud info\n",
    "    print(f'PCD {pc_tot_size}:\\n', pcd, f'\\nPCD {pc_tot_size} size: ', pcd_size,\n",
    "          f'\\n\\nPCD {pc_tot_size} colors: \\n', np.asarray(pcd.colors),\n",
    "          f'\\n\\nPCD {pc_tot_size} points:\\n', np.asarray(pcd.points))\n",
    "    return pcd"
   ]
  },
  {
   "cell_type": "code",
   "execution_count": 20,
   "metadata": {},
   "outputs": [],
   "source": [
    "def show_pc(pc_list):\n",
    "    if SHOW_PC:\n",
    "        new_pc_list = []\n",
    "        pc_1 = pc_list[0]\n",
    "        # define first point cloud color\n",
    "        pc_1_size = len(np.asarray(pc_1.points))\n",
    "        np_colors = np.array([COLORS['red'] for _ in range(pc_1_size)])\n",
    "        pc_1.colors = o3d.utility.Vector3dVector(np_colors)\n",
    "        new_pc_list.append(pc_1)\n",
    "\n",
    "        if len(pc_list) == 2 or len(pc_list) == 3:\n",
    "            pc_2 = pc_list[1]\n",
    "\n",
    "            # offset the second point cloud\n",
    "            offset_pc = o3d.geometry.PointCloud(pc_list[1])\n",
    "            offset_pc.points = o3d.utility.Vector3dVector(\n",
    "                np.asarray(pc_2.points) + [0.0, 0.0, -5.0])\n",
    "            offset_pc_size = len(np.asarray(offset_pc.points))\n",
    "\n",
    "            # define second point cloud color\n",
    "            np_colors = np.array([COLORS['green'] for _ in range(offset_pc_size)])\n",
    "            offset_pc.colors = o3d.utility.Vector3dVector(np_colors)\n",
    "            \n",
    "            new_pc_list.append(offset_pc)\n",
    "        \n",
    "        if len(pc_list) == 3:\n",
    "            pc_3 = pc_list[2]\n",
    "\n",
    "            # offset the third point cloud\n",
    "            offset_pc = o3d.geometry.PointCloud(pc_3)\n",
    "            offset_pc.points = o3d.utility.Vector3dVector(\n",
    "                np.asarray(pc_3.points) + [0.0, 0.0, -10.0])\n",
    "            offset_pc_size = len(np.asarray(offset_pc.points))\n",
    "\n",
    "            # define the point cloud color\n",
    "            np_colors = np.array([COLORS['blue'] for _ in range(offset_pc_size)])\n",
    "            offset_pc.colors = o3d.utility.Vector3dVector(np_colors)\n",
    "\n",
    "            new_pc_list.append(offset_pc)\n",
    "\n",
    "        o3d.visualization.draw_geometries(new_pc_list)"
   ]
  },
  {
   "cell_type": "code",
   "execution_count": 21,
   "metadata": {},
   "outputs": [],
   "source": [
    "def sort_pc(pc):\n",
    "    pc_np = np.asarray(pc.points)\n",
    "    idx_sorted_pc = np.lexsort((pc_np[:,1], pc_np[:,0]))\n",
    "    new_pc = o3d.geometry.PointCloud()\n",
    "    new_pc.points = o3d.utility.Vector3dVector(pc_np[idx_sorted_pc])\n",
    "    return new_pc"
   ]
  },
  {
   "cell_type": "code",
   "execution_count": 22,
   "metadata": {},
   "outputs": [],
   "source": [
    "def get_min_max(pc):\n",
    "    pc_np = np.asarray(pc.points)\n",
    "    p_max, p_min = np.amax(pc_np, axis=0), np.amin(pc_np, axis=0)\n",
    "    return p_max, p_min"
   ]
  },
  {
   "cell_type": "code",
   "execution_count": 23,
   "metadata": {},
   "outputs": [],
   "source": [
    "def split_map(pc):\n",
    "    pc_np = np.asarray(pc.points)\n",
    "    new_pc_np = pc_np[(pc_np[:,0] >= -1.5) & (pc_np[:,0] <= 1.5)]\n",
    "    new_pc = o3d.geometry.PointCloud()\n",
    "    new_pc.points = o3d.utility.Vector3dVector(new_pc_np)\n",
    "    print(f'Reduzed {len(pc_np)} point to {len(new_pc_np)} points.')\n",
    "    return new_pc"
   ]
  },
  {
   "cell_type": "code",
   "execution_count": 24,
   "metadata": {},
   "outputs": [],
   "source": [
    "def brute_force_eucl_dist(pc_1, pc_2):  # too slow\n",
    "    pts_set = set()\n",
    "    for idx_1, p1 in enumerate(tqdm(np.asarray(pc_1.points))):\n",
    "        for idx_2, p2 in enumerate(np.asarray(pc_2.points)):\n",
    "            if check_threshold(p1, p2):\n",
    "                pts_set.add(idx_1)\n",
    "    return pts_set"
   ]
  },
  {
   "cell_type": "code",
   "execution_count": 25,
   "metadata": {},
   "outputs": [],
   "source": [
    "def get_pc_from_pts_set(pc_set, pc):\n",
    "    pts_list = list(pc_set)\n",
    "    pc_np = np.asarray(pc.points) \n",
    "    pc_np_from_pts = pc_np[pts_list]\n",
    "\n",
    "    new_pc = o3d.geometry.PointCloud()\n",
    "    new_pc.points = o3d.utility.Vector3dVector(pc_np_from_pts)\n",
    "    return new_pc"
   ]
  },
  {
   "cell_type": "code",
   "execution_count": 26,
   "metadata": {},
   "outputs": [],
   "source": [
    "def scipy_eucl_dist(pc_1, pc_2):\n",
    "    dist = scipy.spatial.distance.cdist(np.asarray(pc_1.points), np.asarray(pc_2.points))"
   ]
  },
  {
   "cell_type": "code",
   "execution_count": 27,
   "metadata": {},
   "outputs": [],
   "source": [
    "point_clouds = []"
   ]
  },
  {
   "cell_type": "code",
   "execution_count": 30,
   "metadata": {
    "tags": []
   },
   "outputs": [
    {
     "output_type": "stream",
     "name": "stdout",
     "text": [
      "Collecting pc:  /home/dayoff/codes/point_cloud_lib/data/kitti/0000000000.ply\n",
      "PCD 2:\n",
      " geometry::PointCloud with 120574 points. \n",
      "PCD 2 size:  120574 \n",
      "\n",
      "PCD 2 colors: \n",
      " [[  0.   0. 255.]\n",
      " [  0.   0. 255.]\n",
      " [  0.   0. 255.]\n",
      " ...\n",
      " [  0.   0. 255.]\n",
      " [  0.   0. 255.]\n",
      " [  0.   0. 255.]] \n",
      "\n",
      "PCD 2 points:\n",
      " [[74.536  9.937  2.752]\n",
      " [74.558 10.178  2.754]\n",
      " [74.569 10.419  2.755]\n",
      " ...\n",
      " [ 3.705 -1.394 -1.73 ]\n",
      " [ 3.611 -1.345 -1.681]\n",
      " [ 3.73  -1.377 -1.738]]\n",
      "Reduzed 120574 point to 14467 points.\n"
     ]
    }
   ],
   "source": [
    "pc = load_point_cloud(0, 'blue')\n",
    "sorted_pc = sort_pc(pc)\n",
    "partial_pc = split_map(sorted_pc)\n",
    "point_clouds.append(partial_pc)\n",
    "show_pc([pc, partial_pc])"
   ]
  },
  {
   "cell_type": "code",
   "execution_count": 29,
   "metadata": {},
   "outputs": [
    {
     "output_type": "stream",
     "name": "stdout",
     "text": [
      "Collecting pc:  /home/dayoff/codes/point_cloud_lib/data/kitti/0000000010.ply\nPCD 1:\n geometry::PointCloud with 122227 points. \nPCD 1 size:  122227 \n\nPCD 1 colors: \n [[255.   0.   0.]\n [255.   0.   0.]\n [255.   0.   0.]\n ...\n [255.   0.   0.]\n [255.   0.   0.]\n [255.   0.   0.]] \n\nPCD 1 points:\n [[78.601 10.984  2.893]\n [67.496  9.644  2.515]\n [67.487  9.859  2.515]\n ...\n [ 3.779 -1.43  -1.768]\n [ 3.809 -1.427 -1.78 ]\n [ 3.786 -1.405 -1.767]]\nReduzed 122227 point to 14497 points.\n"
     ]
    }
   ],
   "source": [
    "pc = load_point_cloud(10, 'red')\n",
    "sorted_pc = sort_pc(pc)\n",
    "partial_pc = split_map(sorted_pc)\n",
    "point_clouds.append(partial_pc)\n",
    "show_pc([pc, partial_pc])"
   ]
  },
  {
   "cell_type": "code",
   "execution_count": 127,
   "metadata": {
    "tags": []
   },
   "outputs": [
    {
     "output_type": "stream",
     "name": "stderr",
     "text": [
      "100%|██████████| 14467/14467 [05:32<00:00, 43.51it/s]\n"
     ]
    }
   ],
   "source": [
    "cluster_pts = brute_force_eucl_dist(point_clouds[0], point_clouds[1])"
   ]
  },
  {
   "cell_type": "code",
   "execution_count": 130,
   "metadata": {},
   "outputs": [],
   "source": [
    "cluster_pc = get_pc_from_pts_set(cluster_pts, point_clouds[0])"
   ]
  },
  {
   "cell_type": "code",
   "execution_count": 143,
   "metadata": {},
   "outputs": [],
   "source": [
    "show_pc([point_clouds[0], point_clouds[1], cluster_pc])"
   ]
  }
 ]
}